{
 "cells": [
  {
   "cell_type": "code",
   "execution_count": 1,
   "source": [
    "!python train.py \\\r\n",
    "--dataroot datasets/shrec_16 \\\r\n",
    "--batch_size 4 \\\r\n",
    "--name shrec16 \\\r\n",
    "--ncf 64 128 256 256 \\\r\n",
    "--pool_res 600 450 300 180 \\\r\n",
    "--norm group \\\r\n",
    "--resblocks 1 \\\r\n",
    "--flip_edges 0.2 \\\r\n",
    "--slide_verts 0.2 \\\r\n",
    "--num_aug 20 \\\r\n",
    "--niter_decay 100 \\"
   ],
   "outputs": [
    {
     "output_type": "stream",
     "name": "stdout",
     "text": [
      "------------ Options -------------\n",
      "arch: mconvnet\n",
      "batch_size: 4\n",
      "beta1: 0.9\n",
      "checkpoints_dir: ./checkpoints\n",
      "continue_train: False\n",
      "dataroot: datasets/shrec_16\n",
      "dataset_mode: classification\n",
      "epoch_count: 1\n",
      "export_folder: \n",
      "fc_n: 100\n",
      "flip_edges: 0.2\n",
      "gpu_ids: [0]\n",
      "init_gain: 0.02\n",
      "init_type: normal\n",
      "is_train: True\n",
      "lr: 0.0002\n",
      "lr_decay_iters: 50\n",
      "lr_policy: lambda\n",
      "max_dataset_size: inf\n",
      "name: shrec16\n",
      "ncf: [64, 128, 256, 256]\n",
      "ninput_edges: 750\n",
      "niter: 100\n",
      "niter_decay: 100\n",
      "no_vis: False\n",
      "norm: group\n",
      "num_aug: 20\n",
      "num_groups: 16\n",
      "num_threads: 3\n",
      "phase: train\n",
      "pool_res: [600, 450, 300, 180]\n",
      "print_freq: 10\n",
      "resblocks: 1\n",
      "run_test_freq: 1\n",
      "save_epoch_freq: 1\n",
      "save_latest_freq: 250\n",
      "scale_verts: False\n",
      "seed: None\n",
      "serial_batches: False\n",
      "slide_verts: 0.2\n",
      "verbose_plot: False\n",
      "which_epoch: latest\n",
      "-------------- End ----------------\n",
      "loaded mean / std from cache\n",
      "#training meshes = 32\n",
      "---------- Network initialized -------------\n",
      "[Network] Total number of parameters : 1.321 M\n",
      "-----------------------------------------------\n",
      "saving the latest model (epoch 1, total_steps 4)\n",
      "(epoch: 1, iters: 20, time: 0.064, data: 1.017) loss: 2.014 \n",
      "saving the model at the end of epoch 1, iters 32\n",
      "End of epoch 1 / 200 \t Time Taken: 5 sec\n",
      "learning rate = 0.0002000\n",
      "Running Test\n",
      "loaded mean / std from cache\n",
      "loading the model from ./checkpoints\\shrec16\\latest_net.pth\n",
      "epoch: 1, TEST ACC: [50.0 %]\n",
      "\n",
      "saving the latest model (epoch 2, total_steps 36)\n",
      "(epoch: 2, iters: 8, time: 0.060, data: 0.000) loss: 1.876 \n",
      "(epoch: 2, iters: 28, time: 0.063, data: 0.000) loss: 1.792 \n",
      "saving the model at the end of epoch 2, iters 64\n",
      "End of epoch 2 / 200 \t Time Taken: 3 sec\n",
      "learning rate = 0.0002000\n",
      "Running Test\n",
      "loaded mean / std from cache\n",
      "loading the model from ./checkpoints\\shrec16\\latest_net.pth"
     ]
    },
    {
     "output_type": "stream",
     "name": "stderr",
     "text": [
      "C:\\Users\\Gemmechu\\anaconda3\\envs\\py3\\lib\\site-packages\\numpy\\lib\\npyio.py:719: VisibleDeprecationWarning: Creating an ndarray from ragged nested sequences (which is a list-or-tuple of lists-or-tuples-or ndarrays with different lengths or shapes) is deprecated. If you meant to do this, you must specify 'dtype=object' when creating the ndarray.\n",
      "  val = np.asanyarray(val)\n",
      "C:\\Users\\Gemmechu\\anaconda3\\envs\\py3\\lib\\site-packages\\numpy\\lib\\npyio.py:719: VisibleDeprecationWarning: Creating an ndarray from ragged nested sequences (which is a list-or-tuple of lists-or-tuples-or ndarrays with different lengths or shapes) is deprecated. If you meant to do this, you must specify 'dtype=object' when creating the ndarray.\n",
      "  val = np.asanyarray(val)\n",
      "C:\\Users\\Gemmechu\\anaconda3\\envs\\py3\\lib\\site-packages\\numpy\\lib\\npyio.py:719: VisibleDeprecationWarning: Creating an ndarray from ragged nested sequences (which is a list-or-tuple of lists-or-tuples-or ndarrays with different lengths or shapes) is deprecated. If you meant to do this, you must specify 'dtype=object' when creating the ndarray.\n",
      "  val = np.asanyarray(val)\n",
      "C:\\Users\\Gemmechu\\anaconda3\\envs\\py3\\lib\\site-packages\\numpy\\lib\\npyio.py:719: VisibleDeprecationWarning: Creating an ndarray from ragged nested sequences (which is a list-or-tuple of lists-or-tuples-or ndarrays with different lengths or shapes) is deprecated. If you meant to do this, you must specify 'dtype=object' when creating the ndarray.\n",
      "  val = np.asanyarray(val)\n",
      "C:\\Users\\Gemmechu\\anaconda3\\envs\\py3\\lib\\site-packages\\numpy\\lib\\npyio.py:719: VisibleDeprecationWarning: Creating an ndarray from ragged nested sequences (which is a list-or-tuple of lists-or-tuples-or ndarrays with different lengths or shapes) is deprecated. If you meant to do this, you must specify 'dtype=object' when creating the ndarray.\n",
      "  val = np.asanyarray(val)\n",
      "C:\\Users\\Gemmechu\\anaconda3\\envs\\py3\\lib\\site-packages\\numpy\\lib\\npyio.py:719: VisibleDeprecationWarning: Creating an ndarray from ragged nested sequences (which is a list-or-tuple of lists-or-tuples-or ndarrays with different lengths or shapes) is deprecated. If you meant to do this, you must specify 'dtype=object' when creating the ndarray.\n",
      "  val = np.asanyarray(val)\n",
      "C:\\Users\\Gemmechu\\anaconda3\\envs\\py3\\lib\\site-packages\\numpy\\lib\\npyio.py:719: VisibleDeprecationWarning: Creating an ndarray from ragged nested sequences (which is a list-or-tuple of lists-or-tuples-or ndarrays with different lengths or shapes) is deprecated. If you meant to do this, you must specify 'dtype=object' when creating the ndarray.\n",
      "  val = np.asanyarray(val)\n",
      "C:\\Users\\Gemmechu\\anaconda3\\envs\\py3\\lib\\site-packages\\numpy\\lib\\npyio.py:719: VisibleDeprecationWarning: Creating an ndarray from ragged nested sequences (which is a list-or-tuple of lists-or-tuples-or ndarrays with different lengths or shapes) is deprecated. If you meant to do this, you must specify 'dtype=object' when creating the ndarray.\n",
      "  val = np.asanyarray(val)\n",
      "C:\\Users\\Gemmechu\\anaconda3\\envs\\py3\\lib\\site-packages\\numpy\\lib\\npyio.py:719: VisibleDeprecationWarning: Creating an ndarray from ragged nested sequences (which is a list-or-tuple of lists-or-tuples-or ndarrays with different lengths or shapes) is deprecated. If you meant to do this, you must specify 'dtype=object' when creating the ndarray.\n",
      "  val = np.asanyarray(val)\n",
      "C:\\Users\\Gemmechu\\anaconda3\\envs\\py3\\lib\\site-packages\\numpy\\lib\\npyio.py:719: VisibleDeprecationWarning: Creating an ndarray from ragged nested sequences (which is a list-or-tuple of lists-or-tuples-or ndarrays with different lengths or shapes) is deprecated. If you meant to do this, you must specify 'dtype=object' when creating the ndarray.\n",
      "  val = np.asanyarray(val)\n",
      "C:\\Users\\Gemmechu\\anaconda3\\envs\\py3\\lib\\site-packages\\numpy\\lib\\npyio.py:719: VisibleDeprecationWarning: Creating an ndarray from ragged nested sequences (which is a list-or-tuple of lists-or-tuples-or ndarrays with different lengths or shapes) is deprecated. If you meant to do this, you must specify 'dtype=object' when creating the ndarray.\n",
      "  val = np.asanyarray(val)\n",
      "C:\\Users\\Gemmechu\\anaconda3\\envs\\py3\\lib\\site-packages\\numpy\\lib\\npyio.py:719: VisibleDeprecationWarning: Creating an ndarray from ragged nested sequences (which is a list-or-tuple of lists-or-tuples-or ndarrays with different lengths or shapes) is deprecated. If you meant to do this, you must specify 'dtype=object' when creating the ndarray.\n",
      "  val = np.asanyarray(val)\n",
      "C:\\Users\\Gemmechu\\anaconda3\\envs\\py3\\lib\\site-packages\\numpy\\lib\\npyio.py:719: VisibleDeprecationWarning: Creating an ndarray from ragged nested sequences (which is a list-or-tuple of lists-or-tuples-or ndarrays with different lengths or shapes) is deprecated. If you meant to do this, you must specify 'dtype=object' when creating the ndarray.\n",
      "  val = np.asanyarray(val)\n",
      "C:\\Users\\Gemmechu\\anaconda3\\envs\\py3\\lib\\site-packages\\numpy\\lib\\npyio.py:719: VisibleDeprecationWarning: Creating an ndarray from ragged nested sequences (which is a list-or-tuple of lists-or-tuples-or ndarrays with different lengths or shapes) is deprecated. If you meant to do this, you must specify 'dtype=object' when creating the ndarray.\n",
      "  val = np.asanyarray(val)\n",
      "C:\\Users\\Gemmechu\\anaconda3\\envs\\py3\\lib\\site-packages\\numpy\\lib\\npyio.py:719: VisibleDeprecationWarning: Creating an ndarray from ragged nested sequences (which is a list-or-tuple of lists-or-tuples-or ndarrays with different lengths or shapes) is deprecated. If you meant to do this, you must specify 'dtype=object' when creating the ndarray.\n",
      "  val = np.asanyarray(val)\n",
      "C:\\Users\\Gemmechu\\anaconda3\\envs\\py3\\lib\\site-packages\\numpy\\lib\\npyio.py:719: VisibleDeprecationWarning: Creating an ndarray from ragged nested sequences (which is a list-or-tuple of lists-or-tuples-or ndarrays with different lengths or shapes) is deprecated. If you meant to do this, you must specify 'dtype=object' when creating the ndarray.\n",
      "  val = np.asanyarray(val)\n",
      "Traceback (most recent call last):\n",
      "  File \"train.py\", line 41, in <module>\n",
      "    model.save_network('latest')\n",
      "  File \"C:\\Users\\Gemmechu\\Documents\\files\\UMich\\MeshCNN\\models\\mesh_classifier.py\", line 94, in save_network\n",
      "    torch.save(self.net.module.cpu().state_dict(), save_path)\n",
      "  File \"C:\\Users\\Gemmechu\\anaconda3\\envs\\py3\\lib\\site-packages\\torch\\nn\\modules\\module.py\", line 471, in cpu\n",
      "    return self._apply(lambda t: t.cpu())\n",
      "  File \"C:\\Users\\Gemmechu\\anaconda3\\envs\\py3\\lib\\site-packages\\torch\\nn\\modules\\module.py\", line 359, in _apply\n",
      "    module._apply(fn)\n",
      "  File \"C:\\Users\\Gemmechu\\anaconda3\\envs\\py3\\lib\\site-packages\\torch\\nn\\modules\\module.py\", line 359, in _apply\n",
      "    module._apply(fn)\n",
      "  File \"C:\\Users\\Gemmechu\\anaconda3\\envs\\py3\\lib\\site-packages\\torch\\nn\\modules\\module.py\", line 359, in _apply\n",
      "    module._apply(fn)\n",
      "  File \"C:\\Users\\Gemmechu\\anaconda3\\envs\\py3\\lib\\site-packages\\torch\\nn\\modules\\module.py\", line 392, in _apply\n",
      "    grad_applied = fn(param.grad)\n",
      "  File \"C:\\Users\\Gemmechu\\anaconda3\\envs\\py3\\lib\\site-packages\\torch\\nn\\modules\\module.py\", line 471, in <lambda>\n",
      "    return self._apply(lambda t: t.cpu())\n",
      "RuntimeError: [enforce fail at ..\\c10\\core\\CPUAllocator.cpp:73] data. DefaultCPUAllocator: not enough memory: you tried to allocate 1310720 bytes. Buy new RAM!\n"
     ]
    },
    {
     "output_type": "stream",
     "name": "stdout",
     "text": [
      "\n",
      "epoch: 2, TEST ACC: [50.0 %]\n",
      "\n",
      "saving the latest model (epoch 3, total_steps 68)\n",
      "(epoch: 3, iters: 16, time: 0.063, data: 0.010) loss: 1.559 \n",
      "saving the model at the end of epoch 3, iters 96\n",
      "End of epoch 3 / 200 \t Time Taken: 3 sec\n",
      "learning rate = 0.0002000\n",
      "Running Test\n",
      "loaded mean / std from cache\n",
      "loading the model from ./checkpoints\\shrec16\\latest_net.pth\n",
      "epoch: 3, TEST ACC: [87.5 %]\n",
      "\n",
      "(epoch: 4, iters: 4, time: 0.066, data: 0.000) loss: 1.471 \n",
      "saving the latest model (epoch 4, total_steps 100)\n"
     ]
    }
   ],
   "metadata": {}
  },
  {
   "cell_type": "code",
   "execution_count": 30,
   "source": [
    "import numpy as np\r\n",
    "def read_seg(seg):\r\n",
    "    seg_labels = np.loadtxt(open(seg, 'r'), dtype='float64')\r\n",
    "    return seg_labels\r\n",
    "def read_sseg(sseg_file):\r\n",
    "    sseg_labels = read_seg(sseg_file)\r\n",
    "    sseg_labels = np.array(sseg_labels > 0, dtype=np.int32)\r\n",
    "    return sseg_labels"
   ],
   "outputs": [],
   "metadata": {}
  },
  {
   "cell_type": "code",
   "execution_count": 22,
   "source": [
    "seg = read_seg('datasets/human_seg/seg/adobe__FemaleScan003_tri_fixed.eseg')\r\n",
    "seg"
   ],
   "outputs": [
    {
     "output_type": "execute_result",
     "data": {
      "text/plain": [
       "array([1., 1., 1., ..., 6., 5., 5.])"
      ]
     },
     "metadata": {},
     "execution_count": 22
    }
   ],
   "metadata": {}
  },
  {
   "cell_type": "code",
   "execution_count": 47,
   "source": [
    "temp =  np.array([0.328125, 0.34375, 0.004379])\r\n",
    "feature =  np.array([3076, 3075, 3074, 1922])\r\n"
   ],
   "outputs": [],
   "metadata": {}
  },
  {
   "cell_type": "code",
   "execution_count": 50,
   "source": [
    "np.concatenate((feature,temp))"
   ],
   "outputs": [
    {
     "output_type": "execute_result",
     "data": {
      "text/plain": [
       "3076.0"
      ]
     },
     "metadata": {},
     "execution_count": 50
    }
   ],
   "metadata": {}
  },
  {
   "cell_type": "code",
   "execution_count": 43,
   "source": [
    "feature"
   ],
   "outputs": [
    {
     "output_type": "execute_result",
     "data": {
      "text/plain": [
       "[3076, 3075, 3074, 1922, [0.328125, 0.34375, 0.004379]]"
      ]
     },
     "metadata": {},
     "execution_count": 43
    }
   ],
   "metadata": {}
  },
  {
   "cell_type": "code",
   "execution_count": null,
   "source": [],
   "outputs": [],
   "metadata": {}
  }
 ],
 "metadata": {
  "kernelspec": {
   "name": "python3",
   "display_name": "Python 3.8.3 64-bit ('py3': conda)"
  },
  "language_info": {
   "codemirror_mode": {
    "name": "ipython",
    "version": 3
   },
   "file_extension": ".py",
   "mimetype": "text/x-python",
   "name": "python",
   "nbconvert_exporter": "python",
   "pygments_lexer": "ipython3",
   "version": "3.8.3"
  },
  "interpreter": {
   "hash": "df24cb142c2ee6a3fa4a8835053183eadfe21ba5ea8e0cf014d485d98f104654"
  }
 },
 "nbformat": 4,
 "nbformat_minor": 4
}